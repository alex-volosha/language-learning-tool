{
 "cells": [
  {
   "cell_type": "code",
   "execution_count": 1,
   "metadata": {},
   "outputs": [],
   "source": [
    "import pandas as pd\n",
    "import numpy as np\n",
    "import os\n",
    "import pronouncing\n",
    "import speech_recognition as sr\n",
    "import Levenshtein\n",
    "import difflib\n",
    "from speech_recognition_system import SpeechRecognitionSystem\n",
    "from gtts import gTTS\n",
    "from playsound import playsound\n",
    "from IPython.display import Audio,display"
   ]
  },
  {
   "cell_type": "code",
   "execution_count": 2,
   "metadata": {},
   "outputs": [],
   "source": [
    "# We load custom functions from a python file\n",
    "from extra.utility import find_sentence_with_word"
   ]
  },
  {
   "cell_type": "code",
   "execution_count": 3,
   "metadata": {},
   "outputs": [],
   "source": [
    "import sys\n",
    "sys.path.append('/Users/mac/Spiced/Projects/ISP_International_Speech_Project/extra/utility.py')\n"
   ]
  },
  {
   "cell_type": "markdown",
   "metadata": {},
   "source": [
    "### Audio logic test explanation "
   ]
  },
  {
   "cell_type": "code",
   "execution_count": null,
   "metadata": {},
   "outputs": [],
   "source": [
    "def play_audio(text):\n",
    "        # Create a gTTS object\n",
    "        tts = gTTS(text=text, lang='en', slow=False)\n",
    "\n",
    "        # Save the generated audio file\n",
    "        audio_file_path = '/Users/mac/Spiced/Projects/ISP_International_Speech_Project/data/output_audio_test.mp3'\n",
    "        tts.save(audio_file_path)\n",
    "\n",
    "        # Play the saved audio file\n",
    "        playsound(audio_file_path)\n",
    "\n",
    "text = \"hello world I am a robot\"\n",
    "play_audio(text)"
   ]
  },
  {
   "cell_type": "markdown",
   "metadata": {},
   "source": [
    "### Audio with the main script"
   ]
  },
  {
   "cell_type": "code",
   "execution_count": 5,
   "metadata": {},
   "outputs": [
    {
     "data": {
      "text/html": [
       "\n",
       "                <audio  controls=\"controls\" autoplay=\"autoplay\">\n",
       "                    <source src=\"data:audio/mpeg;base64,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\" type=\"audio/mpeg\" />\n",
       "                    Your browser does not support the audio element.\n",
       "                </audio>\n",
       "              "
      ],
      "text/plain": [
       "<IPython.lib.display.Audio object>"
      ]
     },
     "metadata": {},
     "output_type": "display_data"
    },
    {
     "name": "stdout",
     "output_type": "stream",
     "text": [
      "Speak the phrase: I want a cookie.\n",
      "Could not understand the speech.\n",
      "Speak the phrase: I want a cookie.\n"
     ]
    },
    {
     "ename": "KeyboardInterrupt",
     "evalue": "",
     "output_type": "error",
     "traceback": [
      "\u001b[0;31m---------------------------------------------------------------------------\u001b[0m",
      "\u001b[0;31mKeyboardInterrupt\u001b[0m                         Traceback (most recent call last)",
      "\u001b[1;32m/Users/mac/Spiced/Projects/nlp-speech-recognition/recommendation.ipynb Cell 9\u001b[0m line \u001b[0;36m2\n\u001b[1;32m     <a href='vscode-notebook-cell:/Users/mac/Spiced/Projects/nlp-speech-recognition/recommendation.ipynb#X11sZmlsZQ%3D%3D?line=18'>19</a>\u001b[0m display(audio)\n\u001b[1;32m     <a href='vscode-notebook-cell:/Users/mac/Spiced/Projects/nlp-speech-recognition/recommendation.ipynb#X11sZmlsZQ%3D%3D?line=20'>21</a>\u001b[0m \u001b[39mwhile\u001b[39;00m \u001b[39mTrue\u001b[39;00m:\n\u001b[0;32m---> <a href='vscode-notebook-cell:/Users/mac/Spiced/Projects/nlp-speech-recognition/recommendation.ipynb#X11sZmlsZQ%3D%3D?line=21'>22</a>\u001b[0m     speech_recognition_system\u001b[39m.\u001b[39mrecognized_phrase \u001b[39m=\u001b[39m speech_recognition_system\u001b[39m.\u001b[39;49mcheck_phrase(speech_recognition_system\u001b[39m.\u001b[39;49mrecommend_sentences_list[\u001b[39m-\u001b[39;49m\u001b[39m1\u001b[39;49m])\n\u001b[1;32m     <a href='vscode-notebook-cell:/Users/mac/Spiced/Projects/nlp-speech-recognition/recommendation.ipynb#X11sZmlsZQ%3D%3D?line=23'>24</a>\u001b[0m     \u001b[39mif\u001b[39;00m speech_recognition_system\u001b[39m.\u001b[39mrecognized_phrase \u001b[39mis\u001b[39;00m \u001b[39mnot\u001b[39;00m \u001b[39mNone\u001b[39;00m:\n\u001b[1;32m     <a href='vscode-notebook-cell:/Users/mac/Spiced/Projects/nlp-speech-recognition/recommendation.ipynb#X11sZmlsZQ%3D%3D?line=24'>25</a>\u001b[0m         distance \u001b[39m=\u001b[39m Levenshtein\u001b[39m.\u001b[39mdistance(speech_recognition_system\u001b[39m.\u001b[39mrecommend_sentences_list[\u001b[39m-\u001b[39m\u001b[39m1\u001b[39m], speech_recognition_system\u001b[39m.\u001b[39mrecognized_phrase)\n",
      "File \u001b[0;32m~/Spiced/Projects/nlp-speech-recognition/speech_recognition_system.py:20\u001b[0m, in \u001b[0;36mSpeechRecognitionSystem.check_phrase\u001b[0;34m(self, expected_phrase)\u001b[0m\n\u001b[1;32m     18\u001b[0m \u001b[39mwith\u001b[39;00m sr\u001b[39m.\u001b[39mMicrophone() \u001b[39mas\u001b[39;00m source:\n\u001b[1;32m     19\u001b[0m     \u001b[39mprint\u001b[39m(\u001b[39mf\u001b[39m\u001b[39m\"\u001b[39m\u001b[39mSpeak the phrase: \u001b[39m\u001b[39m{\u001b[39;00mexpected_phrase\u001b[39m}\u001b[39;00m\u001b[39m\"\u001b[39m)\n\u001b[0;32m---> 20\u001b[0m     audio \u001b[39m=\u001b[39m recognizer\u001b[39m.\u001b[39;49mlisten(source)\n\u001b[1;32m     22\u001b[0m \u001b[39mtry\u001b[39;00m:\n\u001b[1;32m     23\u001b[0m     text \u001b[39m=\u001b[39m recognizer\u001b[39m.\u001b[39mrecognize_google(audio)\n",
      "File \u001b[0;32m~/.pyenv/versions/3.11.3/lib/python3.11/site-packages/speech_recognition/__init__.py:491\u001b[0m, in \u001b[0;36mRecognizer.listen\u001b[0;34m(self, source, timeout, phrase_time_limit, snowboy_configuration)\u001b[0m\n\u001b[1;32m    488\u001b[0m \u001b[39mif\u001b[39;00m timeout \u001b[39mand\u001b[39;00m elapsed_time \u001b[39m>\u001b[39m timeout:\n\u001b[1;32m    489\u001b[0m     \u001b[39mraise\u001b[39;00m WaitTimeoutError(\u001b[39m\"\u001b[39m\u001b[39mlistening timed out while waiting for phrase to start\u001b[39m\u001b[39m\"\u001b[39m)\n\u001b[0;32m--> 491\u001b[0m buffer \u001b[39m=\u001b[39m source\u001b[39m.\u001b[39;49mstream\u001b[39m.\u001b[39;49mread(source\u001b[39m.\u001b[39;49mCHUNK)\n\u001b[1;32m    492\u001b[0m \u001b[39mif\u001b[39;00m \u001b[39mlen\u001b[39m(buffer) \u001b[39m==\u001b[39m \u001b[39m0\u001b[39m: \u001b[39mbreak\u001b[39;00m  \u001b[39m# reached end of the stream\u001b[39;00m\n\u001b[1;32m    493\u001b[0m frames\u001b[39m.\u001b[39mappend(buffer)\n",
      "File \u001b[0;32m~/.pyenv/versions/3.11.3/lib/python3.11/site-packages/speech_recognition/__init__.py:199\u001b[0m, in \u001b[0;36mMicrophone.MicrophoneStream.read\u001b[0;34m(self, size)\u001b[0m\n\u001b[1;32m    198\u001b[0m \u001b[39mdef\u001b[39;00m \u001b[39mread\u001b[39m(\u001b[39mself\u001b[39m, size):\n\u001b[0;32m--> 199\u001b[0m     \u001b[39mreturn\u001b[39;00m \u001b[39mself\u001b[39;49m\u001b[39m.\u001b[39;49mpyaudio_stream\u001b[39m.\u001b[39;49mread(size, exception_on_overflow\u001b[39m=\u001b[39;49m\u001b[39mFalse\u001b[39;49;00m)\n",
      "File \u001b[0;32m~/.pyenv/versions/3.11.3/lib/python3.11/site-packages/pyaudio/__init__.py:570\u001b[0m, in \u001b[0;36mPyAudio.Stream.read\u001b[0;34m(self, num_frames, exception_on_overflow)\u001b[0m\n\u001b[1;32m    567\u001b[0m \u001b[39mif\u001b[39;00m \u001b[39mnot\u001b[39;00m \u001b[39mself\u001b[39m\u001b[39m.\u001b[39m_is_input:\n\u001b[1;32m    568\u001b[0m     \u001b[39mraise\u001b[39;00m \u001b[39mIOError\u001b[39;00m(\u001b[39m\"\u001b[39m\u001b[39mNot input stream\u001b[39m\u001b[39m\"\u001b[39m,\n\u001b[1;32m    569\u001b[0m                   paCanNotReadFromAnOutputOnlyStream)\n\u001b[0;32m--> 570\u001b[0m \u001b[39mreturn\u001b[39;00m pa\u001b[39m.\u001b[39;49mread_stream(\u001b[39mself\u001b[39;49m\u001b[39m.\u001b[39;49m_stream, num_frames,\n\u001b[1;32m    571\u001b[0m                       exception_on_overflow)\n",
      "\u001b[0;31mKeyboardInterrupt\u001b[0m: "
     ]
    }
   ],
   "source": [
    "# Reading the text from the input folder\n",
    "texts = pd.read_csv('data/sentences_a.csv')['Sentences'].tolist()\n",
    "\n",
    "# Reading the words from the input folder\n",
    "unique_word_dict = pd.read_csv('data/unique_words_a.csv')['about'].tolist()\n",
    "\n",
    "# Create an instance of the SpeechRecognitionSystem\n",
    "speech_recognition_system = SpeechRecognitionSystem(texts, unique_word_dict)\n",
    "\n",
    "# Create a gTTS object\n",
    "#tts = gTTS(text=speech_recognition_system.recommend_sentences_list[-1], lang='en', slow=False)\n",
    "\n",
    "# Save the generated audio file\n",
    "#audio_file_path = '/Users/mac/Spiced/Projects/ISP_International_Speech_Project/data/output_audio.mp3'\n",
    "#tts.save(audio_file_path)\n",
    "\n",
    "# Play the audio using IPython.display.Audio\n",
    "audio = Audio(filename='/Users/mac/Spiced/Projects/ISP_International_Speech_Project/audio/output_audio_first.mp3', autoplay=True)\n",
    "display(audio)\n",
    "\n",
    "while True:\n",
    "    speech_recognition_system.recognized_phrase = speech_recognition_system.check_phrase(speech_recognition_system.recommend_sentences_list[-1])\n",
    "\n",
    "    if speech_recognition_system.recognized_phrase is not None:\n",
    "        distance = Levenshtein.distance(speech_recognition_system.recommend_sentences_list[-1], speech_recognition_system.recognized_phrase)\n",
    "        max_length = max(len(speech_recognition_system.recommend_sentences_list[-1]), len(speech_recognition_system.recognized_phrase))\n",
    "        similarity_ratio = 1 - (distance / max_length)\n",
    "\n",
    "        similarity_threshold = 0.9\n",
    "\n",
    "        # Round the similarity ratio to two decimal places\n",
    "        rounded_similarity_ratio = round(similarity_ratio, 2)\n",
    "\n",
    "        # Convert to percentage and format the output\n",
    "        similarity_percentage = f\"{rounded_similarity_ratio * 100:.2f}%\"\n",
    "\n",
    "        # ANSI escape code for green color\n",
    "        green_color = \"\\033[92m\"\n",
    "\n",
    "        # ANSI escape code to reset color\n",
    "        reset_color = \"\\033[0m\"\n",
    "\n",
    "        # Print the formatted output in green\n",
    "        print(f\"{green_color}Similarity Ratio: {similarity_percentage}{reset_color}\")\n",
    "        if similarity_ratio >= similarity_threshold:\n",
    "            print(\"The recognized phrase is similar enough to the correct phrase.\")\n",
    "\n",
    "            if len(speech_recognition_system.recommend_sentences_list) < len(texts):\n",
    "                next_target_sentence = texts[len(speech_recognition_system.recommend_sentences_list)]\n",
    "\n",
    "                # Create a gTTS object\n",
    "                tts = gTTS(text=next_target_sentence, lang='en', slow=False)\n",
    "\n",
    "                # Save the generated audio file\n",
    "                audio_file_path = '/Users/mac/Spiced/Projects/ISP_International_Speech_Project/audio/output_audio_continue.mp3'\n",
    "                tts.save(audio_file_path)\n",
    "\n",
    "                # Play the audio using IPython.display.Audio\n",
    "                audio = Audio(filename=audio_file_path, autoplay=True)\n",
    "                display(audio)\n",
    "\n",
    "                instruction_text = f\"Speak the next phrase: {next_target_sentence}\"\n",
    "                speech_recognition_system.recommend_sentences_list.append(next_target_sentence)\n",
    "            else:\n",
    "                print(\"All sentences have been spoken. You can end the loop or perform another action.\")\n",
    "                break\n",
    "        else:\n",
    "            print(\"The recognized phrase is not similar to the correct phrase.\")\n",
    "\n",
    "            speech_recognition_system.print_differences(speech_recognition_system.recommend_sentences_list[-1], speech_recognition_system.recognized_phrase)\n",
    "\n",
    "            differences = [word[2:] for word in difflib.ndiff(speech_recognition_system.recommend_sentences_list[-1].split(), speech_recognition_system.recognized_phrase.split()) \n",
    "                           if word[0] == '-' and len(word[2:]) > 1]\n",
    "            print(\"\\nIncorrect words:\", differences)\n",
    "\n",
    "            if differences:\n",
    "                input_word = differences[0]\n",
    "\n",
    "                rhymes = speech_recognition_system.find_rhymes_in_list(input_word)\n",
    "\n",
    "                if rhymes:\n",
    "                    print(f\"Rhymes for '{input_word}' in the word list: {', '.join(rhymes)}\")\n",
    "                    rhymes_found = True\n",
    "\n",
    "                    target_word = rhymes[0]\n",
    "                    recommend_sentence = speech_recognition_system.find_sentence_with_word(target_word)\n",
    "\n",
    "                    if recommend_sentence:\n",
    "                        print(f\"The first sentence containing '{target_word}': {recommend_sentence}\")\n",
    "\n",
    "                        # Create a gTTS object\n",
    "                        tts = gTTS(text=recommend_sentence, lang='en', slow=False)\n",
    "\n",
    "                        # Save the generated audio file\n",
    "                        audio_file_path = '/Users/mac/Spiced/Projects/ISP_International_Speech_Project/audio/output_audio.mp3'\n",
    "                        tts.save(audio_file_path)\n",
    "\n",
    "                        # Play the audio using IPython.display.Audio\n",
    "                        audio = Audio(filename=audio_file_path, autoplay=True)\n",
    "                        display(audio)\n",
    "\n",
    "                        if recommend_sentence == speech_recognition_system.prev_recommend_sentence:\n",
    "                            print(\"The loop will break because the recommend_sentence repeated.\")\n",
    "                            break\n",
    "\n",
    "                        speech_recognition_system.recommend_sentences_list.append(recommend_sentence)\n",
    "                        speech_recognition_system.prev_recommend_sentence = recommend_sentence\n",
    "                    else:\n",
    "                        print(f\"No sentence found containing '{target_word}'.\")\n",
    "                        break\n",
    "                else:\n",
    "                    print(f\"No rhymes found for '{input_word}' in the word list.\")\n",
    "                    break\n",
    "            else:\n",
    "                print(\"No differences found.\")"
   ]
  }
 ],
 "metadata": {
  "kernelspec": {
   "display_name": "Python 3",
   "language": "python",
   "name": "python3"
  },
  "language_info": {
   "codemirror_mode": {
    "name": "ipython",
    "version": 3
   },
   "file_extension": ".py",
   "mimetype": "text/x-python",
   "name": "python",
   "nbconvert_exporter": "python",
   "pygments_lexer": "ipython3",
   "version": "3.11.3"
  }
 },
 "nbformat": 4,
 "nbformat_minor": 2
}
