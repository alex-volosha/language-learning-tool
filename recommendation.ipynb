{
 "cells": [
  {
   "cell_type": "code",
   "execution_count": null,
   "metadata": {},
   "outputs": [],
   "source": [
    "import pandas as pd\n",
    "import numpy as np\n",
    "import os\n",
    "import pronouncing\n",
    "import speech_recognition as sr\n",
    "import Levenshtein\n",
    "import difflib\n",
    "from speech_recognition_system import SpeechRecognitionSystem\n",
    "from gtts import gTTS\n",
    "from playsound import playsound\n",
    "from IPython.display import Audio,display"
   ]
  },
  {
   "cell_type": "code",
   "execution_count": null,
   "metadata": {},
   "outputs": [],
   "source": [
    "# We load custom functions from a python file\n",
    "from extra.utility import find_sentence_with_word"
   ]
  },
  {
   "cell_type": "code",
   "execution_count": null,
   "metadata": {},
   "outputs": [],
   "source": [
    "import sys\n",
    "sys.path.append('/Users/mac/Spiced/Projects/ISP_International_Speech_Project/extra/utility.py')\n"
   ]
  },
  {
   "cell_type": "markdown",
   "metadata": {},
   "source": [
    "### # Reading the text from the input folder"
   ]
  },
  {
   "cell_type": "code",
   "execution_count": null,
   "metadata": {},
   "outputs": [],
   "source": [
    "# Reading the text from the input folder\n",
    "texts = pd.read_csv('data/sentences_test.csv')\n",
    "texts = [x for x in texts['text']]\n",
    "texts"
   ]
  },
  {
   "cell_type": "markdown",
   "metadata": {},
   "source": [
    "### Audio logic test explanation "
   ]
  },
  {
   "cell_type": "code",
   "execution_count": null,
   "metadata": {},
   "outputs": [],
   "source": [
    "def play_audio(text):\n",
    "        # Create a gTTS object\n",
    "        tts = gTTS(text=text, lang='en', slow=False)\n",
    "\n",
    "        # Save the generated audio file\n",
    "        audio_file_path = '/Users/mac/Spiced/Projects/ISP_International_Speech_Project/data/output_audio_test.mp3'\n",
    "        tts.save(audio_file_path)\n",
    "\n",
    "        # Play the saved audio file\n",
    "        playsound(audio_file_path)\n",
    "\n",
    "text = \"hello world I am a robot\"\n",
    "play_audio(text)"
   ]
  },
  {
   "cell_type": "markdown",
   "metadata": {},
   "source": [
    "### Audio with the main script"
   ]
  },
  {
   "cell_type": "code",
   "execution_count": null,
   "metadata": {},
   "outputs": [],
   "source": [
    "# Reading the text from the input folder\n",
    "texts = pd.read_csv('data/sentences_a.csv')['Sentences'].tolist()\n",
    "\n",
    "# Reading the words from the input folder\n",
    "unique_word_dict = pd.read_csv('data/unique_words_a.csv')['about'].tolist()\n",
    "\n",
    "# Create an instance of the SpeechRecognitionSystem\n",
    "speech_recognition_system = SpeechRecognitionSystem(texts, unique_word_dict)\n",
    "\n",
    "# Create a gTTS object\n",
    "#tts = gTTS(text=speech_recognition_system.recommend_sentences_list[-1], lang='en', slow=False)\n",
    "\n",
    "# Save the generated audio file\n",
    "#audio_file_path = '/Users/mac/Spiced/Projects/ISP_International_Speech_Project/data/output_audio.mp3'\n",
    "#tts.save(audio_file_path)\n",
    "\n",
    "# Play the audio using IPython.display.Audio\n",
    "audio = Audio(filename='/Users/mac/Spiced/Projects/ISP_International_Speech_Project/audio/output_audio_first.mp3', autoplay=True)\n",
    "display(audio)\n",
    "\n",
    "while True:\n",
    "    speech_recognition_system.recognized_phrase = speech_recognition_system.check_phrase(speech_recognition_system.recommend_sentences_list[-1])\n",
    "\n",
    "    if speech_recognition_system.recognized_phrase is not None:\n",
    "        distance = Levenshtein.distance(speech_recognition_system.recommend_sentences_list[-1], speech_recognition_system.recognized_phrase)\n",
    "        max_length = max(len(speech_recognition_system.recommend_sentences_list[-1]), len(speech_recognition_system.recognized_phrase))\n",
    "        similarity_ratio = 1 - (distance / max_length)\n",
    "\n",
    "        similarity_threshold = 0.9\n",
    "\n",
    "        # Round the similarity ratio to two decimal places\n",
    "        rounded_similarity_ratio = round(similarity_ratio, 2)\n",
    "\n",
    "        # Convert to percentage and format the output\n",
    "        similarity_percentage = f\"{rounded_similarity_ratio * 100:.2f}%\"\n",
    "\n",
    "        # ANSI escape code for green color\n",
    "        green_color = \"\\033[92m\"\n",
    "\n",
    "        # ANSI escape code to reset color\n",
    "        reset_color = \"\\033[0m\"\n",
    "\n",
    "        # Print the formatted output in green\n",
    "        print(f\"{green_color}Similarity Ratio: {similarity_percentage}{reset_color}\")\n",
    "        if similarity_ratio >= similarity_threshold:\n",
    "            print(\"The recognized phrase is similar enough to the correct phrase.\")\n",
    "\n",
    "            if len(speech_recognition_system.recommend_sentences_list) < len(texts):\n",
    "                next_target_sentence = texts[len(speech_recognition_system.recommend_sentences_list)]\n",
    "\n",
    "                # Create a gTTS object\n",
    "                tts = gTTS(text=next_target_sentence, lang='en', slow=False)\n",
    "\n",
    "                # Save the generated audio file\n",
    "                audio_file_path = '/Users/mac/Spiced/Projects/ISP_International_Speech_Project/audio/output_audio_continue.mp3'\n",
    "                tts.save(audio_file_path)\n",
    "\n",
    "                # Play the audio using IPython.display.Audio\n",
    "                audio = Audio(filename=audio_file_path, autoplay=True)\n",
    "                display(audio)\n",
    "\n",
    "                instruction_text = f\"Speak the next phrase: {next_target_sentence}\"\n",
    "                speech_recognition_system.recommend_sentences_list.append(next_target_sentence)\n",
    "            else:\n",
    "                print(\"All sentences have been spoken. You can end the loop or perform another action.\")\n",
    "                break\n",
    "        else:\n",
    "            print(\"The recognized phrase is not similar to the correct phrase.\")\n",
    "\n",
    "            speech_recognition_system.print_differences(speech_recognition_system.recommend_sentences_list[-1], speech_recognition_system.recognized_phrase)\n",
    "\n",
    "            differences = [word[2:] for word in difflib.ndiff(speech_recognition_system.recommend_sentences_list[-1].split(), speech_recognition_system.recognized_phrase.split()) \n",
    "                           if word[0] == '-' and len(word[2:]) > 1]\n",
    "            print(\"\\nIncorrect words:\", differences)\n",
    "\n",
    "            if differences:\n",
    "                input_word = differences[0]\n",
    "\n",
    "                rhymes = speech_recognition_system.find_rhymes_in_list(input_word)\n",
    "\n",
    "                if rhymes:\n",
    "                    print(f\"Rhymes for '{input_word}' in the word list: {', '.join(rhymes)}\")\n",
    "                    rhymes_found = True\n",
    "\n",
    "                    target_word = rhymes[0]\n",
    "                    recommend_sentence = speech_recognition_system.find_sentence_with_word(target_word)\n",
    "\n",
    "                    if recommend_sentence:\n",
    "                        print(f\"The first sentence containing '{target_word}': {recommend_sentence}\")\n",
    "\n",
    "                        # Create a gTTS object\n",
    "                        tts = gTTS(text=recommend_sentence, lang='en', slow=False)\n",
    "\n",
    "                        # Save the generated audio file\n",
    "                        audio_file_path = '/Users/mac/Spiced/Projects/ISP_International_Speech_Project/audio/output_audio.mp3'\n",
    "                        tts.save(audio_file_path)\n",
    "\n",
    "                        # Play the audio using IPython.display.Audio\n",
    "                        audio = Audio(filename=audio_file_path, autoplay=True)\n",
    "                        display(audio)\n",
    "\n",
    "                        if recommend_sentence == speech_recognition_system.prev_recommend_sentence:\n",
    "                            print(\"The loop will break because the recommend_sentence repeated.\")\n",
    "                            break\n",
    "\n",
    "                        speech_recognition_system.recommend_sentences_list.append(recommend_sentence)\n",
    "                        speech_recognition_system.prev_recommend_sentence = recommend_sentence\n",
    "                    else:\n",
    "                        print(f\"No sentence found containing '{target_word}'.\")\n",
    "                        break\n",
    "                else:\n",
    "                    print(f\"No rhymes found for '{input_word}' in the word list.\")\n",
    "                    break\n",
    "            else:\n",
    "                print(\"No differences found.\")"
   ]
  }
 ],
 "metadata": {
  "language_info": {
   "name": "python"
  }
 },
 "nbformat": 4,
 "nbformat_minor": 2
}
