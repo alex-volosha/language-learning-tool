{
 "cells": [
  {
   "cell_type": "code",
   "execution_count": 1,
   "metadata": {},
   "outputs": [
    {
     "name": "stdout",
     "output_type": "stream",
     "text": [
      "Requirement already satisfied: SpeechRecognition in /Users/mac/.pyenv/versions/3.11.3/lib/python3.11/site-packages (3.10.0)\n",
      "Requirement already satisfied: requests>=2.26.0 in /Users/mac/.pyenv/versions/3.11.3/lib/python3.11/site-packages (from SpeechRecognition) (2.31.0)\n",
      "Requirement already satisfied: charset-normalizer<4,>=2 in /Users/mac/.pyenv/versions/3.11.3/lib/python3.11/site-packages (from requests>=2.26.0->SpeechRecognition) (3.2.0)\n",
      "Requirement already satisfied: idna<4,>=2.5 in /Users/mac/.pyenv/versions/3.11.3/lib/python3.11/site-packages (from requests>=2.26.0->SpeechRecognition) (3.4)\n",
      "Requirement already satisfied: urllib3<3,>=1.21.1 in /Users/mac/.pyenv/versions/3.11.3/lib/python3.11/site-packages (from requests>=2.26.0->SpeechRecognition) (2.0.4)\n",
      "Requirement already satisfied: certifi>=2017.4.17 in /Users/mac/.pyenv/versions/3.11.3/lib/python3.11/site-packages (from requests>=2.26.0->SpeechRecognition) (2023.7.22)\n"
     ]
    }
   ],
   "source": [
    "!pip install SpeechRecognition"
   ]
  },
  {
   "cell_type": "code",
   "execution_count": 2,
   "metadata": {},
   "outputs": [
    {
     "name": "stdout",
     "output_type": "stream",
     "text": [
      "\u001b[34m==>\u001b[0m \u001b[1mDownloading https://formulae.brew.sh/api/formula.jws.json\u001b[0m\n",
      "######################################################################### 100.0%\n",
      "\u001b[34m==>\u001b[0m \u001b[1mDownloading https://formulae.brew.sh/api/cask.jws.json\u001b[0m\n",
      "######################################################################### 100.0%\n",
      "\u001b[33mWarning:\u001b[0m portaudio 19.7.0 is already installed and up-to-date.\n",
      "To reinstall 19.7.0, run:\n",
      "  brew reinstall portaudio\n",
      "\u001b[33mWarning:\u001b[0m Already linked: /usr/local/Cellar/portaudio/19.7.0\n",
      "To relink, run:\n",
      "  brew unlink portaudio && brew link portaudio\n",
      "/usr/local/opt/portaudio\n",
      "Requirement already satisfied: pyaudio in /Users/mac/.pyenv/versions/3.11.3/lib/python3.11/site-packages (0.2.13)\n"
     ]
    }
   ],
   "source": [
    "!brew install portaudio\n",
    "!brew link portaudio\n",
    "!brew --prefix portaudio\n",
    "!pip install pyaudio"
   ]
  },
  {
   "cell_type": "code",
   "execution_count": 3,
   "metadata": {},
   "outputs": [],
   "source": [
    "import speech_recognition as sr\n",
    "import pyaudio"
   ]
  },
  {
   "cell_type": "markdown",
   "metadata": {},
   "source": [
    "## Creating the dictionary with numeric sentences"
   ]
  },
  {
   "cell_type": "code",
   "execution_count": 4,
   "metadata": {},
   "outputs": [
    {
     "name": "stdout",
     "output_type": "stream",
     "text": [
      "{'1': 'Abandon. She had to abandon her old car and buy a new one.', '2': 'Ability. His ability to solve complex problems is impressive.', '3': 'Accept. They accepted the invitation to the party.', '4': 'Accident. The car crash was a terrible accident.', '5': 'Achieve. With hard work, she was able to achieve her dream job.', '6': 'Active. He leads an active lifestyle by hiking and biking.', '7': \"Add. Don't forget to add sugar to the recipe.\", '8': 'Advantage. One advantage of living in the city is easy access to amenities.', '9': 'Advice. She gave me some good advice about managing my time.', '10': \"Afraid. He's afraid of heights, so he avoids tall buildings.\", '11': \"Afternoon. Let's meet for coffee in the afternoon.\", '12': 'Age. People of all ages enjoy playing video games.', '13': 'Agree. They finally agreed on a movie to watch.', '14': 'Air. The air in the mountains is fresh and clean.', '15': 'All. All the students were excited about the field trip.', '16': 'Alone. She felt lonely when her friends left, but now she enjoys being alone.', '17': \"Always. He's always early for his appointments.\", '18': 'Ambition. Her ambition is to become a successful writer.', '19': \"Angry. He gets angry when people don't listen to him.\", '20': 'Animal. We saw many different animals at the zoo.', '21': 'Answer. Can you please give me the answer to question number three?', '22': 'Anyone. Anyone can participate in the competition.', '23': 'Appear. The sun appeared from behind the clouds.', '24': 'Apple. She enjoys eating a crisp apple as a snack.', '25': 'Area. This park has a large play area for children.', '26': 'Arrange. She arranged a meeting with her colleagues to discuss the project.', '27': 'Art. The museum has a wonderful collection of modern art.', '28': 'Ask. Can I ask you a question about the assignment?', '29': 'Attract. The colorful flowers attract many butterflies.', '30': 'Bad. The weather was so bad that they had to cancel the picnic.', '31': 'Bag. She put her books in her backpack.', '32': 'Beautiful. The sunset over the ocean was absolutely beautiful.', '33': 'Believe. I believe that hard work leads to success.', '34': 'Below. The temperature dropped below freezing last night.', '35': 'Best. Her best friend supported her through thick and thin.', '36': 'Big. The elephant is a big animal.', '37': 'Bird. We heard the chirping of birds in the morning.', '38': 'Black. She wore a black dress to the formal event.', '39': 'Book. He enjoys reading mystery books in his free time.', '40': 'Born. She was born in a small town in France.', '41': 'Borrow. Can I borrow your pen for a moment?', '42': 'Both. Both of them enjoyed the movie.', '43': 'Bottle. He filled the bottle with cold water.', '44': 'Box. She packed her belongings into a cardboard box.', '45': 'Boy. The boy played soccer with his friends.', '46': 'Break. Be careful not to break the glass.', '47': 'Bridge. The old bridge is a popular tourist attraction.', '48': \"Bring. Don't forget to bring your umbrella in case it rains.\", '49': 'Brother. Her brother is a talented musician.', '50': 'Build. They plan to build a new school in the neighborhood.', '51': 'Bus. She takes the bus to work every day.', '52': 'Business. He owns a small business in the city.', '53': 'Buy. I need to buy some groceries for dinner tonight.', '54': 'By. You can reach the park by taking the subway.', '55': \"Cake. She baked a delicious cake for her friend's birthday.\", '56': 'Call. What do you call this type of flower?', '57': 'Camera. He loves photography and uses a professional camera.', '58': 'Can. I can swim well.', '59': 'Car. She drives a red car to work.', '60': 'Card. She sent a birthday card to her grandmother.', '61': 'Care. Parents take care of their children.', '62': 'Carry. She always carries a water bottle with her.', '63': 'Cat. The cat likes to nap in the sun.', '64': 'Catch. He managed to catch the ball during the game.', '65': 'Cause. The heavy rain was the cause of the flooding.', '66': 'Centre. The hotel is located in the city centre.', '67': 'Change. She decided to change her hairstyle.', '68': 'Cheap. The store is having a sale, so everything is cheap.', '69': 'Check. Please check if I left my keys on the table.', '70': 'Child. The children played in the park all afternoon.', '71': 'Choose. She needs to choose a college for her studies.', '72': 'City. New York City is known for its bustling atmosphere.', '73': 'Class. The math class starts at 9 AM.', '74': 'Clean. She spent the afternoon cleaning her apartment.', '75': 'Clear. The instructions are clear and easy to follow.', '76': 'Close. Please close the door when you leave.', '77': 'Clothes. She bought new clothes for the summer season.', '78': 'Coffee. He likes to start his day with a cup of coffee.', '79': 'Cold. The cold weather requires wearing warm clothing.', '80': 'Colour. She painted the walls a bright and cheerful color.', '81': 'Come. Please come to the meeting on time.', '82': 'Company. He works for a software company.', '83': 'Computer. She uses her computer for work and entertainment.', '84': 'Cook. He enjoys learning to cook new recipes.', '85': 'Copy. Can I make a copy of this document?', '86': 'Cost. The cost of living in this city is high.', '87': 'Country. She traveled to a foreign country for vacation.', '88': \"Course. He's taking a photography course online.\", '89': 'Cousin. Her cousin is visiting from another state.', '90': 'Crazy. The roller coaster ride was crazy and exhilarating.', '91': 'Create. She loves to create art in her free time.', '92': 'Cross. Be careful when you cross the busy street.', '93': \"Cry. She couldn't help but cry when she heard the sad news.\", '94': 'Cup. He poured tea into a cup and sipped it slowly.', '95': 'Cut. She used a knife to cut the vegetables.', '96': 'Dance. They danced all night at the wedding reception.', '97': \"Dangerous. It's dangerous to climb that mountain.\"}\n"
     ]
    }
   ],
   "source": [
    "text = '''Abandon. She had to abandon her old car and buy a new one.\n",
    "Ability. His ability to solve complex problems is impressive.\n",
    "Accept. They accepted the invitation to the party.\n",
    "Accident. The car crash was a terrible accident.\n",
    "Achieve. With hard work, she was able to achieve her dream job.\n",
    "Active. He leads an active lifestyle by hiking and biking.\n",
    "Add. Don't forget to add sugar to the recipe.\n",
    "Advantage. One advantage of living in the city is easy access to amenities.\n",
    "Advice. She gave me some good advice about managing my time.\n",
    "Afraid. He's afraid of heights, so he avoids tall buildings.\n",
    "Afternoon. Let's meet for coffee in the afternoon.\n",
    "Age. People of all ages enjoy playing video games.\n",
    "Agree. They finally agreed on a movie to watch.\n",
    "Air. The air in the mountains is fresh and clean.\n",
    "All. All the students were excited about the field trip.\n",
    "Alone. She felt lonely when her friends left, but now she enjoys being alone.\n",
    "Always. He's always early for his appointments.\n",
    "Ambition. Her ambition is to become a successful writer.\n",
    "Angry. He gets angry when people don't listen to him.\n",
    "Animal. We saw many different animals at the zoo.\n",
    "Answer. Can you please give me the answer to question number three?\n",
    "Anyone. Anyone can participate in the competition.\n",
    "Appear. The sun appeared from behind the clouds.\n",
    "Apple. She enjoys eating a crisp apple as a snack.\n",
    "Area. This park has a large play area for children.\n",
    "Arrange. She arranged a meeting with her colleagues to discuss the project.\n",
    "Art. The museum has a wonderful collection of modern art.\n",
    "Ask. Can I ask you a question about the assignment?\n",
    "Attract. The colorful flowers attract many butterflies.\n",
    "Bad. The weather was so bad that they had to cancel the picnic.\n",
    "Bag. She put her books in her backpack.\n",
    "Beautiful. The sunset over the ocean was absolutely beautiful.\n",
    "Believe. I believe that hard work leads to success.\n",
    "Below. The temperature dropped below freezing last night.\n",
    "Best. Her best friend supported her through thick and thin.\n",
    "Big. The elephant is a big animal.\n",
    "Bird. We heard the chirping of birds in the morning.\n",
    "Black. She wore a black dress to the formal event.\n",
    "Book. He enjoys reading mystery books in his free time.\n",
    "Born. She was born in a small town in France.\n",
    "Borrow. Can I borrow your pen for a moment?\n",
    "Both. Both of them enjoyed the movie.\n",
    "Bottle. He filled the bottle with cold water.\n",
    "Box. She packed her belongings into a cardboard box.\n",
    "Boy. The boy played soccer with his friends.\n",
    "Break. Be careful not to break the glass.\n",
    "Bridge. The old bridge is a popular tourist attraction.\n",
    "Bring. Don't forget to bring your umbrella in case it rains.\n",
    "Brother. Her brother is a talented musician.\n",
    "Build. They plan to build a new school in the neighborhood.\n",
    "Bus. She takes the bus to work every day.\n",
    "Business. He owns a small business in the city.\n",
    "Buy. I need to buy some groceries for dinner tonight.\n",
    "By. You can reach the park by taking the subway.\n",
    "Cake. She baked a delicious cake for her friend's birthday.\n",
    "Call. What do you call this type of flower?\n",
    "Camera. He loves photography and uses a professional camera.\n",
    "Can. I can swim well.\n",
    "Car. She drives a red car to work.\n",
    "Card. She sent a birthday card to her grandmother.\n",
    "Care. Parents take care of their children.\n",
    "Carry. She always carries a water bottle with her.\n",
    "Cat. The cat likes to nap in the sun.\n",
    "Catch. He managed to catch the ball during the game.\n",
    "Cause. The heavy rain was the cause of the flooding.\n",
    "Centre. The hotel is located in the city centre.\n",
    "Change. She decided to change her hairstyle.\n",
    "Cheap. The store is having a sale, so everything is cheap.\n",
    "Check. Please check if I left my keys on the table.\n",
    "Child. The children played in the park all afternoon.\n",
    "Choose. She needs to choose a college for her studies.\n",
    "City. New York City is known for its bustling atmosphere.\n",
    "Class. The math class starts at 9 AM.\n",
    "Clean. She spent the afternoon cleaning her apartment.\n",
    "Clear. The instructions are clear and easy to follow.\n",
    "Close. Please close the door when you leave.\n",
    "Clothes. She bought new clothes for the summer season.\n",
    "Coffee. He likes to start his day with a cup of coffee.\n",
    "Cold. The cold weather requires wearing warm clothing.\n",
    "Colour. She painted the walls a bright and cheerful color.\n",
    "Come. Please come to the meeting on time.\n",
    "Company. He works for a software company.\n",
    "Computer. She uses her computer for work and entertainment.\n",
    "Cook. He enjoys learning to cook new recipes.\n",
    "Copy. Can I make a copy of this document?\n",
    "Cost. The cost of living in this city is high.\n",
    "Country. She traveled to a foreign country for vacation.\n",
    "Course. He's taking a photography course online.\n",
    "Cousin. Her cousin is visiting from another state.\n",
    "Crazy. The roller coaster ride was crazy and exhilarating.\n",
    "Create. She loves to create art in her free time.\n",
    "Cross. Be careful when you cross the busy street.\n",
    "Cry. She couldn't help but cry when she heard the sad news.\n",
    "Cup. He poured tea into a cup and sipped it slowly.\n",
    "Cut. She used a knife to cut the vegetables.\n",
    "Dance. They danced all night at the wedding reception.\n",
    "Dangerous. It's dangerous to climb that mountain.'''\n",
    "\n",
    "sentences = text.split('\\n')\n",
    "\n",
    "# Create a dictionary with numeric keys\n",
    "sentence_dict = {str(i + 1): sentence for i, sentence in enumerate(sentences)}\n",
    "\n",
    "# Print the dictionary\n",
    "print(sentence_dict)"
   ]
  },
  {
   "cell_type": "code",
   "execution_count": 5,
   "metadata": {},
   "outputs": [
    {
     "name": "stdout",
     "output_type": "stream",
     "text": [
      "Speak the phrase: Abandon. She had to abandon her old car and buy a new one.\n",
      "You said: abandon\n",
      "You didn't speak the correct phrase. Please try again.\n"
     ]
    }
   ],
   "source": [
    "import speech_recognition as sr\n",
    "\n",
    "# Initialize the speech recognizer\n",
    "recognizer = sr.Recognizer()\n",
    "\n",
    "# The phrase that the user should speak\n",
    "sentence_dict = \"Abandon. She had to abandon her old car and buy a new one.\"\n",
    "\n",
    "# Function to check the phrase and return the recognized text\n",
    "def check_phrase():\n",
    "    with sr.Microphone() as source:\n",
    "        print(\"Speak the phrase: \" + sentence_dict)\n",
    "        audio = recognizer.listen(source)\n",
    "\n",
    "    try:\n",
    "        # Recognize the speech using the Google Web Speech API\n",
    "        text = recognizer.recognize_google(audio)\n",
    "        print(\"You said: \" + text)\n",
    "\n",
    "        # Check if the spoken phrase matches the correct phrase\n",
    "        if sentence_dict.lower() == text.lower():\n",
    "            print(\"You spoke the correct phrase!\")\n",
    "        else:\n",
    "            print(\"You didn't speak the correct phrase. Please try again.\")\n",
    "\n",
    "        return text  # Return the recognized text\n",
    "\n",
    "    except sr.UnknownValueError:\n",
    "        print(\"Could not understand the speech.\")\n",
    "        return None  # Return None if speech couldn't be recognized\n",
    "    except sr.RequestError as e:\n",
    "        print(\"Request error: {0}\".format(e))\n",
    "        return None  # Return None in case of a request error\n",
    "\n",
    "# Execute the function to check the phrase and store the recognized phrase\n",
    "recognized_phrase = check_phrase()\n",
    "\n",
    "# Now you can use the recognized_phrase variable as needed\n",
    "if recognized_phrase is not None:\n",
    "    # Do something with the recognized phrase\n",
    "    pass\n"
   ]
  },
  {
   "cell_type": "code",
   "execution_count": 7,
   "metadata": {},
   "outputs": [
    {
     "name": "stdout",
     "output_type": "stream",
     "text": [
      "\u001b[0m\n",
      "\u001b[34m\u001b[1m  You can now view your Streamlit app in your browser.\u001b[0m\n",
      "\u001b[0m\n",
      "\u001b[34m  Local URL: \u001b[0m\u001b[1mhttp://localhost:8501\u001b[0m\n",
      "\u001b[34m  Network URL: \u001b[0m\u001b[1mhttp://10.117.8.251:8501\u001b[0m\n",
      "\u001b[0m\n",
      "\u001b[34m\u001b[1m  For better performance, install the Watchdog module:\u001b[0m\n",
      "\n",
      "  $ xcode-select --install\n",
      "  $ pip install watchdog\n",
      "            \u001b[0m\n",
      "^C\n",
      "\u001b[34m  Stopping...\u001b[0m\n"
     ]
    }
   ],
   "source": [
    "!streamlit run /Users/mac/Spiced/Projects/ISP_International_Speech_Project/Sentences/gpt-microphone.py"
   ]
  },
  {
   "cell_type": "code",
   "execution_count": null,
   "metadata": {},
   "outputs": [],
   "source": [
    "import Levenshtein\n",
    "\n",
    "correct_phrase = \"Testing the voice recognition.\"\n",
    "recognized_phrase\n",
    "\n",
    "distance = Levenshtein.distance(correct_phrase, recognized_phrase)\n",
    "similarity_ratio = 1 - (distance / max(len(correct_phrase), len(recognized_phrase)))\n",
    "\n",
    "print(\"Levenshtein Distance:\", distance)\n",
    "print(\"Similarity Ratio:\", similarity_ratio)\n"
   ]
  },
  {
   "cell_type": "code",
   "execution_count": null,
   "metadata": {},
   "outputs": [],
   "source": []
  },
  {
   "cell_type": "code",
   "execution_count": null,
   "metadata": {},
   "outputs": [],
   "source": [
    "import Levenshtein\n",
    "import difflib\n",
    "\n",
    "correct_phrase\n",
    "recognized_phrase # Replace this with the actual recognized phrase\n",
    "\n",
    "def compute_similarity(correct_phrase, recognized_phrase):\n",
    "    # Compute the Levenshtein distance between the two phrases\n",
    "    distance = Levenshtein.distance(correct_phrase, recognized_phrase)\n",
    "\n",
    "    # Calculate the similarity ratio\n",
    "    max_length = max(len(correct_phrase), len(recognized_phrase))\n",
    "    similarity_ratio = 1 - (distance / max_length)\n",
    "\n",
    "    return similarity_ratio\n",
    "\n",
    "similarity_threshold = 0.8  # Adjust the threshold as needed\n",
    "\n",
    "similarity_ratio = compute_similarity(correct_phrase, recognized_phrase)\n",
    "\n",
    "print(\"Levenshtein Distance:\", Levenshtein.distance(correct_phrase, recognized_phrase))\n",
    "print(\"Similarity Ratio:\", similarity_ratio)\n",
    "\n",
    "if similarity_ratio >= similarity_threshold:\n",
    "    print(\"The recognized phrase is similar enough to the correct phrase.\")\n",
    "else:\n",
    "    print(\"The recognized phrase is not similar to the correct phrase.\")\n",
    "\n",
    "    # Highlight the differences between the two phrases\n",
    "    differ = difflib.Differ()\n",
    "    diff = differ.compare(correct_phrase, recognized_phrase)\n",
    "    print(\"Differences:\")\n",
    "    print(\"\".join(diff))\n"
   ]
  }
 ],
 "metadata": {
  "kernelspec": {
   "display_name": "Python 3",
   "language": "python",
   "name": "python3"
  },
  "language_info": {
   "codemirror_mode": {
    "name": "ipython",
    "version": 3
   },
   "file_extension": ".py",
   "mimetype": "text/x-python",
   "name": "python",
   "nbconvert_exporter": "python",
   "pygments_lexer": "ipython3",
   "version": "3.11.3"
  }
 },
 "nbformat": 4,
 "nbformat_minor": 2
}
