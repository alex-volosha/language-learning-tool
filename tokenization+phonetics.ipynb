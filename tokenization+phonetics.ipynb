{
 "cells": [
  {
   "cell_type": "code",
   "execution_count": null,
   "metadata": {},
   "outputs": [],
   "source": [
    "import pandas as pd\n",
    "import numpy as np\n",
    "import os\n",
    "import pronouncing\n",
    "import csv"
   ]
  },
  {
   "cell_type": "code",
   "execution_count": null,
   "metadata": {},
   "outputs": [],
   "source": [
    "# We load custom functions from a python file\n",
    "from extra.utility import text_preprocessing, create_unique_word_dict,euclidean,find_similar\n"
   ]
  },
  {
   "cell_type": "code",
   "execution_count": null,
   "metadata": {},
   "outputs": [],
   "source": [
    "# Reading the text from the input folder\n",
    "texts = pd.read_csv('data/sentences_test.csv')\n",
    "texts = [x for x in texts['text']]\n",
    "texts"
   ]
  },
  {
   "cell_type": "code",
   "execution_count": null,
   "metadata": {},
   "outputs": [],
   "source": [
    "# Creating a placeholder for the scanning of the word list\n",
    "word_lists = []"
   ]
  },
  {
   "cell_type": "code",
   "execution_count": null,
   "metadata": {},
   "outputs": [],
   "source": [
    "for text in texts:\n",
    "\n",
    "    # Cleaning the text\n",
    "    text = text_preprocessing(text)\n",
    "\n",
    "    # Appending to the all text list\n",
    "    word_lists += text "
   ]
  },
  {
   "cell_type": "code",
   "execution_count": null,
   "metadata": {},
   "outputs": [],
   "source": [
    "word_lists"
   ]
  },
  {
   "cell_type": "code",
   "execution_count": null,
   "metadata": {},
   "outputs": [],
   "source": [
    "unique_word_dict = create_unique_word_dict(word_lists)"
   ]
  },
  {
   "cell_type": "code",
   "execution_count": null,
   "metadata": {},
   "outputs": [],
   "source": [
    "unique_word_dict"
   ]
  },
  {
   "cell_type": "markdown",
   "metadata": {},
   "source": [
    "### Creating .csv file from list of words"
   ]
  },
  {
   "cell_type": "code",
   "execution_count": null,
   "metadata": {},
   "outputs": [],
   "source": [
    "# Specify the file name with .csv extension\n",
    "file_name = \"data/unique_words.csv\"\n",
    "\n",
    "# Open the CSV file in write mode\n",
    "with open(file_name, 'w', newline='') as csv_file:\n",
    "    # Create a CSV writer object\n",
    "    csv_writer = csv.writer(csv_file)\n",
    "\n",
    "    # Write each element of the list as a separate row\n",
    "    for item in unique_word_dict:\n",
    "        csv_writer.writerow([item])"
   ]
  },
  {
   "cell_type": "code",
   "execution_count": null,
   "metadata": {},
   "outputs": [],
   "source": [
    "# Reading the text from the input folder\n",
    "unique_word_dict = pd.read_csv('data/unique_words.csv')\n",
    "unique_word_dict = [x for x in unique_word_dict['abandon']]\n",
    "unique_word_dict"
   ]
  },
  {
   "cell_type": "code",
   "execution_count": null,
   "metadata": {},
   "outputs": [],
   "source": [
    "# Your list of words\n",
    "unique_word_dict\n",
    "\n",
    "def find_rhymes_in_list(word, unique_word_dict):\n",
    "    # Get a list of words that rhyme with the given word\n",
    "    rhymes = pronouncing.rhymes(word)\n",
    "    \n",
    "    # Filter rhymes to include only those in the word list\n",
    "    rhymes_in_list = [rhyme for rhyme in rhymes if rhyme in unique_word_dict]\n",
    "    \n",
    "    return rhymes_in_list\n",
    "\n",
    "# Example usage\n",
    "input_word = 'buy'\n",
    "rhymes = find_rhymes_in_list(input_word, unique_word_dict)\n",
    "\n",
    "if rhymes:\n",
    "    print(f\"Rhymes for '{input_word}' in the word list: {', '.join(rhymes)}\")\n",
    "else:\n",
    "    print(f\"No rhymes found for '{input_word}' in the word list.\")\n"
   ]
  },
  {
   "cell_type": "markdown",
   "metadata": {},
   "source": [
    "# Preparing words and sentences with A level dataset for embedding process"
   ]
  },
  {
   "cell_type": "code",
   "execution_count": null,
   "metadata": {},
   "outputs": [],
   "source": [
    "# Reading the text from the input folder\n",
    "texts = pd.read_csv('data/LRIS_dataset.csv', delimiter=';', encoding='latin-1')\n",
    "texts"
   ]
  },
  {
   "cell_type": "markdown",
   "metadata": {},
   "source": [
    "### Getting sentences from dataset and storing as a .csv file"
   ]
  },
  {
   "cell_type": "code",
   "execution_count": null,
   "metadata": {},
   "outputs": [],
   "source": [
    "sentences_a = texts['Sentence_1'].tolist()\n",
    "sentences_a"
   ]
  },
  {
   "cell_type": "code",
   "execution_count": null,
   "metadata": {},
   "outputs": [],
   "source": [
    "# Specify the file name with .csv extension\n",
    "file_name = \"data/sentences_a.csv\"\n",
    "\n",
    "# Open the CSV file in write mode\n",
    "with open(file_name, 'w', newline='') as csv_file:\n",
    "    # Create a CSV writer object\n",
    "    csv_writer = csv.writer(csv_file)\n",
    "\n",
    "    # Write each element of the list as a separate row\n",
    "    for item in sentences_a:\n",
    "        csv_writer.writerow([item])"
   ]
  },
  {
   "cell_type": "markdown",
   "metadata": {},
   "source": [
    "### Getting words from dataset and storing as a .csv file"
   ]
  },
  {
   "cell_type": "code",
   "execution_count": null,
   "metadata": {},
   "outputs": [],
   "source": [
    "words_a = texts['Word_english'].tolist()"
   ]
  },
  {
   "cell_type": "code",
   "execution_count": null,
   "metadata": {},
   "outputs": [],
   "source": [
    "# Creating a placeholder for the scanning of the word list\n",
    "word_a_lists = []"
   ]
  },
  {
   "cell_type": "code",
   "execution_count": null,
   "metadata": {},
   "outputs": [],
   "source": [
    "for sentence in sentences_a:\n",
    "\n",
    "    # Cleaning the text\n",
    "    sentence = text_preprocessing(sentence)\n",
    "\n",
    "    # Appending to the all text list\n",
    "    word_a_lists += sentence "
   ]
  },
  {
   "cell_type": "code",
   "execution_count": null,
   "metadata": {},
   "outputs": [],
   "source": [
    "word_a_lists"
   ]
  },
  {
   "cell_type": "code",
   "execution_count": null,
   "metadata": {},
   "outputs": [],
   "source": [
    "word_a_lists = create_unique_word_dict(word_a_lists)"
   ]
  },
  {
   "cell_type": "code",
   "execution_count": null,
   "metadata": {},
   "outputs": [],
   "source": [
    "len(word_a_lists)"
   ]
  },
  {
   "cell_type": "code",
   "execution_count": null,
   "metadata": {},
   "outputs": [],
   "source": [
    "# Specify the file name with .csv extension\n",
    "file_name = \"data/unique_words_a.csv\"\n",
    "\n",
    "# Open the CSV file in write mode\n",
    "with open(file_name, 'w', newline='') as csv_file:\n",
    "    # Create a CSV writer object\n",
    "    csv_writer = csv.writer(csv_file)\n",
    "\n",
    "    # Write each element of the list as a separate row\n",
    "    for item in word_a_lists:\n",
    "        csv_writer.writerow([item])"
   ]
  }
 ],
 "metadata": {
  "language_info": {
   "name": "python"
  }
 },
 "nbformat": 4,
 "nbformat_minor": 2
}
